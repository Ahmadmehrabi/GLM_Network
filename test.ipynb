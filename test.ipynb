{
 "cells": [
  {
   "cell_type": "code",
   "execution_count": 23,
   "metadata": {},
   "outputs": [],
   "source": [
    "import numpy as np\n",
    "import pandas as pd\n",
    "import matplotlib.pyplot as plt\n",
    "import tensorflow as tf\n",
    "from tensorflow.keras import initializers\n",
    "from tensorflow.keras.models import Sequential\n",
    "from tensorflow.keras.layers import Dense, Activation\n",
    "import keras.backend as K"
   ]
  },
  {
   "cell_type": "code",
   "execution_count": 6,
   "metadata": {},
   "outputs": [
    {
     "data": {
      "text/plain": [
       "<ErrorbarContainer object of 3 artists>"
      ]
     },
     "execution_count": 6,
     "metadata": {},
     "output_type": "execute_result"
    },
    {
     "data": {
      "image/png": "[encoded data removed]",
      "text/plain": [
       "<Figure size 432x288 with 1 Axes>"
      ]
     },
     "metadata": {
      "needs_background": "light"
     },
     "output_type": "display_data"
    }
   ],
   "source": [
    "def func(x):\n",
    "    return x**2-3*x\n",
    "\n",
    "\n",
    "sig = 1.5\n",
    "n_obs = 80\n",
    "eps = np.random.normal(0.,sig,n_obs)\n",
    "x_obs = np.linspace(-2,5,n_obs)\n",
    "fun_obs = func(x_obs) + eps\n",
    "dfun_obs = sig\n",
    "\n",
    "plt.errorbar(x_obs,fun_obs,yerr=dfun_obs,fmt=\"bo\")"
   ]
  },
  {
   "cell_type": "code",
   "execution_count": 38,
   "metadata": {},
   "outputs": [
    {
     "name": "stdout",
     "output_type": "stream",
     "text": [
      "Model: \"sequential_8\"\n",
      "_________________________________________________________________\n",
      " Layer (type)                Output Shape              Param #   \n",
      "=================================================================\n",
      " dense_32 (Dense)            (None, 5)                 10        \n",
      "                                                                 \n",
      " dense_33 (Dense)            (None, 10)                60        \n",
      "                                                                 \n",
      " dense_34 (Dense)            (None, 5)                 55        \n",
      "                                                                 \n",
      " dense_35 (Dense)            (None, 1)                 6         \n",
      "                                                                 \n",
      "=================================================================\n",
      "Total params: 131\n",
      "Trainable params: 131\n",
      "Non-trainable params: 0\n",
      "_________________________________________________________________\n"
     ]
    }
   ],
   "source": [
    "model = Sequential()\n",
    "model.add(Dense(5,activation='selu'))\n",
    "#model.add(Dense(6,activation='tanh'))\n",
    "model.add(Dense(10,activation='selu'))\n",
    "#model.add(Dense(6,activation='tanh'))\n",
    "model.add(Dense(5,activation='selu'))\n",
    "model.add(Dense(1))\n",
    "\n",
    "loss_fn = tf.keras.losses.mean_squared_error\n",
    "model.compile(optimizer='Adam',loss=loss_fn)\n",
    "\n",
    "hist = model.fit(x=x_obs.reshape(-1,1),y=fun_obs.reshape(-1,1),epochs=800,verbose=0)\n",
    "model.summary()"
   ]
  },
  {
   "cell_type": "code",
   "execution_count": 39,
   "metadata": {},
   "outputs": [
    {
     "name": "stdout",
     "output_type": "stream",
     "text": [
      "best loss = 1.6562868356704712\n"
     ]
    },
    {
     "data": {
      "text/plain": [
       "[<matplotlib.lines.Line2D at 0x7f50c5f14340>]"
      ]
     },
     "execution_count": 39,
     "metadata": {},
     "output_type": "execute_result"
    },
    {
     "data": {
      "image/png": "[encoded data removed]",
      "text/plain": [
       "<Figure size 432x288 with 1 Axes>"
      ]
     },
     "metadata": {
      "needs_background": "light"
     },
     "output_type": "display_data"
    }
   ],
   "source": [
    "print(f\"best loss = {hist.history['loss'][-1]}\")\n",
    "\n",
    "x_test = np.linspace(-2,5,250)\n",
    "y_test = model(x_test.reshape(-1,1))\n",
    "\n",
    "plt.errorbar(x_obs,fun_obs,yerr=dfun_obs,fmt=\"bo\")\n",
    "plt.plot(x_test,y_test)"
   ]
  },
  {
   "cell_type": "code",
   "execution_count": 41,
   "metadata": {},
   "outputs": [
    {
     "data": {
      "text/plain": [
       "<tf.Tensor: shape=(), dtype=float32, numpy=1.6558262>"
      ]
     },
     "execution_count": 41,
     "metadata": {},
     "output_type": "execute_result"
    }
   ],
   "source": [
    "y_pred_obs = model(x_obs.reshape(-1,1))\n",
    "x = y_pred_obs[:,0] - fun_obs\n",
    "sum(x**2)/n_obs"
   ]
  },
  {
   "cell_type": "code",
   "execution_count": 30,
   "metadata": {},
   "outputs": [],
   "source": [
    "# custom loss function\n",
    "class_weights = K.variable([[sig for i in range(len(x_obs))]]) \n",
    "class_weights = K.reshape(class_weights, (80, 1))\n",
    "\n",
    "def loss_fixed(y_true, y_pred):\n",
    "\n",
    "    mse = K.mean(K.square( (y_pred - y_true)/class_weights ), axis=-1)\n",
    "        # print('mse:', K.int_shape(mse))\n",
    "    return mse\n",
    "      "
   ]
  },
  {
   "cell_type": "code",
   "execution_count": 35,
   "metadata": {},
   "outputs": [],
   "source": [
    "model = Sequential()\n",
    "model.add(Dense(5,activation='selu'))\n",
    "#model.add(Dense(6,activation='tanh'))\n",
    "model.add(Dense(10,activation='selu'))\n",
    "#model.add(Dense(6,activation='tanh'))\n",
    "model.add(Dense(5,activation='selu'))\n",
    "model.add(Dense(1))\n",
    "\n",
    "loss_fn = tf.keras.losses.mean_squared_error\n",
    "model.compile(optimizer='Adam',loss=loss_fixed)\n",
    "\n",
    "hist = model.fit(x=x_obs.reshape(-1,1),y=fun_obs.reshape(-1,1),batch_size=80,epochs=500,verbose=0)"
   ]
  },
  {
   "cell_type": "code",
   "execution_count": 36,
   "metadata": {},
   "outputs": [
    {
     "name": "stdout",
     "output_type": "stream",
     "text": [
      "best loss = 0.8898504376411438\n"
     ]
    },
    {
     "data": {
      "text/plain": [
       "[<matplotlib.lines.Line2D at 0x7f50c60f3bb0>]"
      ]
     },
     "execution_count": 36,
     "metadata": {},
     "output_type": "execute_result"
    },
    {
     "data": {
      "image/png": "[encoded data removed]",
      "text/plain": [
       "<Figure size 432x288 with 1 Axes>"
      ]
     },
     "metadata": {
      "needs_background": "light"
     },
     "output_type": "display_data"
    }
   ],
   "source": [
    "print(f\"best loss = {hist.history['loss'][-1]}\")\n",
    "\n",
    "x_test = np.linspace(-2,5,250)\n",
    "y_test = model(x_test.reshape(-1,1))\n",
    "\n",
    "plt.errorbar(x_obs,fun_obs,yerr=dfun_obs,fmt=\"bo\")\n",
    "plt.plot(x_test,y_test)"
   ]
  },
  {
   "cell_type": "code",
   "execution_count": 37,
   "metadata": {},
   "outputs": [
    {
     "data": {
      "text/plain": [
       "<tf.Tensor: shape=(), dtype=float32, numpy=0.8889815>"
      ]
     },
     "execution_count": 37,
     "metadata": {},
     "output_type": "execute_result"
    }
   ],
   "source": [
    "y_pred_obs = model(x_obs.reshape(-1,1))\n",
    "x = (y_pred_obs[:,0] - fun_obs)/sig\n",
    "sum(x**2)/n_obs"
   ]
  },
  {
   "cell_type": "code",
   "execution_count": null,
   "metadata": {},
   "outputs": [],
   "source": []
  }
 ],
 "metadata": {
  "interpreter": {
   "hash": "a903f369c72b97399439a0220dbd72519c171a5f0f8d1d12318db037042e5e82"
  },
  "kernelspec": {
   "display_name": "Python 3.9.7 ('tensorflow')",
   "language": "python",
   "name": "python3"
  },
  "language_info": {
   "codemirror_mode": {
    "name": "ipython",
    "version": 3
   },
   "file_extension": ".py",
   "mimetype": "text/x-python",
   "name": "python",
   "nbconvert_exporter": "python",
   "pygments_lexer": "ipython3",
   "version": "3.9.7"
  },
  "orig_nbformat": 4
 },
 "nbformat": 4,
 "nbformat_minor": 2
}
