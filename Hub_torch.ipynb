{
 "cells": [
  {
   "cell_type": "code",
   "execution_count": 1,
   "metadata": {},
   "outputs": [],
   "source": [
    "import torch\n",
    "import numpy as np\n",
    "import math\n",
    "import matplotlib.pyplot as plt\n",
    "\n",
    "dtype = torch.float\n",
    "device = torch.device(\"cpu\")"
   ]
  },
  {
   "cell_type": "code",
   "execution_count": 2,
   "metadata": {},
   "outputs": [],
   "source": [
    "def Hub_the(z,om,H0):\n",
    "    return H0*np.sqrt(om*pow(1+z,3)+1-om)\n",
    "\n",
    "h_data = np.genfromtxt(\"./data/hubel.dat\") "
   ]
  },
  {
   "cell_type": "code",
   "execution_count": 14,
   "metadata": {},
   "outputs": [],
   "source": [
    "Activation = torch.nn.SiLU()    #torch.nn.SELU(),#torch.nn.GELU(),#torch.nn.Tanh(),\n",
    "    \n",
    "model = torch.nn.Sequential(\n",
    "    torch.nn.Linear(1, 5),\n",
    "    Activation,\n",
    "    #torch.nn.Linear(10,10),\n",
    "    #Activation,\n",
    "    torch.nn.Linear(5,1),\n",
    "    torch.nn.Flatten(0, 1)\n",
    ")\n",
    "\n",
    "y = torch.from_numpy(h_data[:,1]).float()\n",
    "err_y = torch.from_numpy(h_data[:,2]).float()\n",
    "def loss_fn(y_pred,y):\n",
    "    return ((y_pred - y)/err_y).pow(2).sum()"
   ]
  },
  {
   "cell_type": "code",
   "execution_count": 15,
   "metadata": {},
   "outputs": [
    {
     "data": {
      "text/plain": [
       "13295.400390625"
      ]
     },
     "execution_count": 15,
     "metadata": {},
     "output_type": "execute_result"
    }
   ],
   "source": [
    "x = torch.from_numpy(h_data[:,0]).float()\n",
    "x = torch.reshape(x,(39,1))\n",
    "\n",
    "y_pred = model(x)\n",
    "\n",
    "#x.reshape(-1,1)\n",
    "#y_pred.size()\n",
    "tot_par = sum([param.nelement() for param in model.parameters()])\n",
    "\n",
    "loss = loss_fn(y_pred,y)\n",
    "loss.item()"
   ]
  },
  {
   "cell_type": "code",
   "execution_count": 17,
   "metadata": {},
   "outputs": [
    {
     "name": "stdout",
     "output_type": "stream",
     "text": [
      "0 75.37689208984375\n",
      "5000 73.34745788574219\n",
      "10000 71.42323303222656\n",
      "15000 69.55403900146484\n",
      "20000 67.73921203613281\n",
      "25000 65.97847747802734\n",
      "30000 64.27118682861328\n",
      "35000 62.61710739135742\n",
      "40000 61.01559066772461\n",
      "45000 59.46611404418945\n",
      "50000 57.96818161010742\n"
     ]
    }
   ],
   "source": [
    "learning_rate = 1e-3\n",
    "optimizer = torch.optim.RMSprop(model.parameters(), lr=learning_rate)\n",
    "for t in range(50001):\n",
    "    # Forward pass: compute predicted y by passing x to the model.\n",
    "    y_pred = model(x)\n",
    "\n",
    "    # Compute and print loss.\n",
    "    loss = loss_fn(y_pred, y)\n",
    "    if t % 5000 == 0:\n",
    "        print(t, loss.item())\n",
    "\n",
    "    # Before the backward pass, use the optimizer object to zero all of the\n",
    "    # gradients for the variables it will update (which are the learnable\n",
    "    # weights of the model). This is because by default, gradients are\n",
    "    # accumulated in buffers( i.e, not overwritten) whenever .backward()\n",
    "    # is called. Checkout docs of torch.autograd.backward for more details.\n",
    "    optimizer.zero_grad()\n",
    "\n",
    "    # Backward pass: compute gradient of the loss with respect to model\n",
    "    # parameters\n",
    "    loss.backward()\n",
    "\n",
    "    # Calling the step function on an Optimizer makes an update to its\n",
    "    # parameters\n",
    "    optimizer.step()\n",
    "    #linear_layer = model[0]\n",
    "    #print(linear_layer.weight)"
   ]
  },
  {
   "cell_type": "code",
   "execution_count": 18,
   "metadata": {},
   "outputs": [
    {
     "name": "stdout",
     "output_type": "stream",
     "text": [
      "tensor(68.4829, grad_fn=<SelectBackward0>)\n"
     ]
    },
    {
     "data": {
      "text/plain": [
       "<ErrorbarContainer object of 3 artists>"
      ]
     },
     "execution_count": 18,
     "metadata": {},
     "output_type": "execute_result"
    },
    {
     "data": {
      "image/png": "[encoded data removed]",
      "text/plain": [
       "<Figure size 432x288 with 1 Axes>"
      ]
     },
     "metadata": {
      "needs_background": "light"
     },
     "output_type": "display_data"
    }
   ],
   "source": [
    "x_test = torch.linspace(0, 2.5, 2000, device=device, dtype=dtype)\n",
    "x_test = torch.reshape(x_test,(2000,1))\n",
    "y_th = Hub_the(x_test,0.3,70)\n",
    "y_test = model(x_test)\n",
    "\n",
    "print(y_test[0])\n",
    "plt.plot(x_test,y_th)\n",
    "plt.plot(x_test.detach().numpy().reshape(-1,),y_test.detach().numpy())\n",
    "plt.errorbar(h_data[:,0],h_data[:,1],yerr=h_data[:,2],fmt=\"bo\")"
   ]
  },
  {
   "cell_type": "code",
   "execution_count": null,
   "metadata": {},
   "outputs": [],
   "source": []
  }
 ],
 "metadata": {
  "interpreter": {
   "hash": "6b9a097f2b6b0937b50ab9e5f37f0e5e9f1ed747e071cd73360cbeeebd4f70a2"
  },
  "kernelspec": {
   "display_name": "Python 3.8.0 ('pytorch')",
   "language": "python",
   "name": "python3"
  },
  "language_info": {
   "codemirror_mode": {
    "name": "ipython",
    "version": 3
   },
   "file_extension": ".py",
   "mimetype": "text/x-python",
   "name": "python",
   "nbconvert_exporter": "python",
   "pygments_lexer": "ipython3",
   "version": "3.8.0"
  },
  "orig_nbformat": 4
 },
 "nbformat": 4,
 "nbformat_minor": 2
}
