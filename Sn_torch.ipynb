{
 "cells": [
  {
   "cell_type": "code",
   "execution_count": 1,
   "metadata": {},
   "outputs": [],
   "source": [
    "import torch\n",
    "import numpy as np\n",
    "import matplotlib.pyplot as plt\n",
    "\n",
    "dtype = torch.float\n",
    "device = torch.device(\"cpu\")"
   ]
  },
  {
   "cell_type": "code",
   "execution_count": 2,
   "metadata": {},
   "outputs": [],
   "source": [
    "import scipy.integrate as integ\n",
    "\n",
    "def normalized_hubble(z,args):\n",
    "        om0 = args[1]\n",
    "        omm = om0*pow(1.+z,3)\n",
    "        ol0 = 1 - om0 \n",
    "\n",
    "        return pow(omm + ol0 ,0.5)\n",
    "\n",
    "\n",
    "def Ez_inv(z,args):\n",
    "        return 1./normalized_hubble(z,args)\n",
    "\n",
    "\n",
    "def com_dis(z,args):\n",
    "        res = integ.quad(Ez_inv, 0., z, args=args)\n",
    "        return res[0]\n",
    "\n",
    "\n",
    "def mu_the(z,H0,om):\n",
    "        mu = np.zeros(len(z))\n",
    "        args = [H0,om]\n",
    "        for i in range(len(z)):\n",
    "                lsd = 3e5*(1+z[i])*com_dis(z[i],args)/H0\n",
    "                mu[i] = 5*np.log10(lsd) + 25.\n",
    "        return mu\n",
    "\n",
    "def luminosity_distance(z,H0,om):\n",
    "    dl = np.zeros(len(z))\n",
    "    args = [H0,om]\n",
    "    for i in range(len(z)):\n",
    "        lsd = 3.e5*(1+z[i])*com_dis(z[i],args)/H0\n",
    "        dl[i] = lsd\n",
    "    return dl    \n"
   ]
  },
  {
   "cell_type": "code",
   "execution_count": 3,
   "metadata": {},
   "outputs": [
    {
     "name": "stdout",
     "output_type": "stream",
     "text": [
      "SN data are loaded\n"
     ]
    },
    {
     "data": {
      "text/plain": [
       "<ErrorbarContainer object of 3 artists>"
      ]
     },
     "execution_count": 3,
     "metadata": {},
     "output_type": "execute_result"
    },
    {
     "data": {
      "image/png": "[encoded data removed]",
      "text/plain": [
       "<Figure size 432x288 with 1 Axes>"
      ]
     },
     "metadata": {
      "needs_background": "light"
     },
     "output_type": "display_data"
    }
   ],
   "source": [
    "from pathlib import Path\n",
    "import os\n",
    "cwd=os.getcwd()\n",
    "\n",
    "path_cov = cwd + '/data/cov_full.txt'\n",
    "path_lcp = cwd + '/data/Tdata.txt'\n",
    "\n",
    "cov_file = Path(path_cov)\n",
    "lcp_file = Path(path_lcp)\n",
    "\n",
    "if cov_file.is_file() and lcp_file.is_file():\n",
    "    cov = np.genfromtxt(path_cov)\n",
    "    lcp = np.genfromtxt(path_lcp)\n",
    "                \n",
    "    z_obs = lcp[:,1]\n",
    "    mu_obs = lcp[:,4] + 19.3\n",
    "\n",
    "    cov_mat_sys = np.reshape(cov,(1048,1048))\n",
    "    cov_mat_sta = np.zeros((1048,1048))\n",
    "    \n",
    "    \n",
    "    for i in range(len(lcp)):\n",
    "        cov_mat_sys[i][i] = cov_mat_sys[i][i] + pow(lcp[i,5],2)\n",
    "        cov_mat_sta[i][i] = cov_mat_sta[i][i] + pow(lcp[i,5],2)\n",
    "        \n",
    "    cov_mat_sys_inv = np.linalg.inv(cov_mat_sys)\n",
    "    cov_mat_sta_inv = np.linalg.inv(cov_mat_sta)           \n",
    "    print(\"SN data are loaded\")   \n",
    "    \n",
    "else:\n",
    "    print(\"SN files do not exist\")\n",
    "    sys.exit(0) \n",
    "\n",
    "dmu_obs = np.sqrt(cov_mat_sys.diagonal())\n",
    "data = np.c_[z_obs,mu_obs,dmu_obs]\n",
    "data.view('f8,f8,f8').sort(order=['f0'], axis=0)\n",
    "\n",
    "z_obs = data[:,0]\n",
    "mu_obs = data[:,1]\n",
    "dmu_obs = data[:,2]\n",
    "\n",
    "#dmu_obs = np.sqrt(cov_mat_sys.diagonal())\n",
    "\n",
    "def convert_to_Dl(mu,dmu):\n",
    "    dl = pow(10,(mu-25)/5)\n",
    "    sig_dl = dmu*dl*0.4605\n",
    "    return dl,sig_dl\n",
    "\n",
    "  \n",
    "Dl_obs , dDl_obs = convert_to_Dl(mu_obs,dmu_obs)\n",
    "\n",
    "\n",
    "plt.errorbar(z_obs,Dl_obs,yerr=dDl_obs,fmt='o',lw=1,elinewidth=1.5,color=\"black\")"
   ]
  },
  {
   "cell_type": "code",
   "execution_count": 21,
   "metadata": {},
   "outputs": [],
   "source": [
    "model = torch.nn.Sequential(\n",
    "    torch.nn.Linear(1, 10),\n",
    "    #torch.nn.SELU(),\n",
    "    #torch.nn.GELU(),\n",
    "    #torch.nn.Tanh(),\n",
    "    torch.nn.SiLU(),\n",
    "    torch.nn.Linear(10,10),\n",
    "    #torch.nn.SELU(),\n",
    "    #torch.nn.GELU(),\n",
    "    torch.nn.SiLU(),\n",
    "    #torch.nn.Tanh(),\n",
    "    #torch.nn.Linear(20,10),\n",
    "    #torch.nn.SELU(),\n",
    "    #torch.nn.ELU(),\n",
    "    #torch.nn.Tanh(),\n",
    "    #torch.nn.SiLU(),\n",
    "    torch.nn.Linear(10,1),\n",
    "    torch.nn.Flatten(0, 1)\n",
    ")\n",
    "\n",
    "err_y = torch.from_numpy(dDl_obs).float()\n",
    "def loss_fn(y_pred,y):\n",
    "    return ((y_pred - y)/err_y).pow(2).sum()"
   ]
  },
  {
   "cell_type": "code",
   "execution_count": 22,
   "metadata": {},
   "outputs": [
    {
     "data": {
      "text/plain": [
       "272114.25"
      ]
     },
     "execution_count": 22,
     "metadata": {},
     "output_type": "execute_result"
    }
   ],
   "source": [
    "x = torch.from_numpy(z_obs).float()\n",
    "x = torch.reshape(x,(1048,1))\n",
    "\n",
    "#print(x.size())\n",
    "y = torch.from_numpy(Dl_obs).float()\n",
    "\n",
    "y_pred = model(x)\n",
    "\n",
    "#x.reshape(-1,1)\n",
    "#y_pred.size()\n",
    "tot_par = sum([param.nelement() for param in model.parameters()])\n",
    "\n",
    "loss = loss_fn(y_pred,y)\n",
    "loss.item()"
   ]
  },
  {
   "cell_type": "code",
   "execution_count": 23,
   "metadata": {},
   "outputs": [
    {
     "name": "stdout",
     "output_type": "stream",
     "text": [
      "0 272114.25\n",
      "5000 2862.710205078125\n",
      "10000 1045.4691162109375\n",
      "15000 1031.005859375\n",
      "20000 1026.86376953125\n",
      "25000 1024.089111328125\n",
      "30000 1021.9493408203125\n",
      "35000 1020.302734375\n",
      "40000 1019.0516967773438\n",
      "45000 1018.0714111328125\n",
      "50000 1017.298828125\n",
      "55000 1016.6827392578125\n",
      "60000 1016.1827392578125\n",
      "65000 1015.7642822265625\n",
      "70000 1015.4142456054688\n",
      "75000 1015.0938110351562\n",
      "80000 1014.7982788085938\n"
     ]
    }
   ],
   "source": [
    "learning_rate = 1e-3\n",
    "optimizer = torch.optim.RMSprop(model.parameters(), lr=learning_rate)\n",
    "#optimizer = torch.optim.Adam(model.parameters(), lr=learning_rate)\n",
    "for t in range(80001):\n",
    "    # Forward pass: compute predicted y by passing x to the model.\n",
    "    y_pred = model(x)\n",
    "\n",
    "    # Compute and print loss.\n",
    "    loss = loss_fn(y_pred, y)\n",
    "    if t % 5000 == 0:\n",
    "        print(t, loss.item())\n",
    "\n",
    "    # Before the backward pass, use the optimizer object to zero all of the\n",
    "    # gradients for the variables it will update (which are the learnable\n",
    "    # weights of the model). This is because by default, gradients are\n",
    "    # accumulated in buffers( i.e, not overwritten) whenever .backward()\n",
    "    # is called. Checkout docs of torch.autograd.backward for more details.\n",
    "    optimizer.zero_grad()\n",
    "\n",
    "    # Backward pass: compute gradient of the loss with respect to model\n",
    "    # parameters\n",
    "    loss.backward()\n",
    "\n",
    "    # Calling the step function on an Optimizer makes an update to its\n",
    "    # parameters\n",
    "    optimizer.step()\n",
    "    #linear_layer = model[0]\n",
    "    #print(linear_layer.weight)"
   ]
  },
  {
   "cell_type": "code",
   "execution_count": 24,
   "metadata": {},
   "outputs": [
    {
     "name": "stdout",
     "output_type": "stream",
     "text": [
      "tensor(-2.3288, grad_fn=<SelectBackward0>)\n"
     ]
    },
    {
     "data": {
      "text/plain": [
       "<ErrorbarContainer object of 3 artists>"
      ]
     },
     "execution_count": 24,
     "metadata": {},
     "output_type": "execute_result"
    },
    {
     "data": {
      "image/png": "[encoded data removed]",
      "text/plain": [
       "<Figure size 432x288 with 1 Axes>"
      ]
     },
     "metadata": {
      "needs_background": "light"
     },
     "output_type": "display_data"
    }
   ],
   "source": [
    "x_test = torch.linspace(0, 2.5, 4000, device=device, dtype=dtype)\n",
    "x_test = torch.reshape(x_test,(4000,1))\n",
    "y_th = luminosity_distance(x_test,70,0.3)\n",
    "y_test = model(x_test)\n",
    "\n",
    "print(y_test[0])\n",
    "plt.plot(x_test,y_th)\n",
    "plt.plot(x_test.detach().numpy().reshape(-1,),y_test.detach().numpy())\n",
    "plt.errorbar(z_obs,Dl_obs,yerr=dDl_obs,fmt=\"bo\")"
   ]
  },
  {
   "cell_type": "code",
   "execution_count": 25,
   "metadata": {},
   "outputs": [
    {
     "name": "stdout",
     "output_type": "stream",
     "text": [
      "72.05933716755686\n"
     ]
    },
    {
     "data": {
      "text/plain": [
       "[<matplotlib.lines.Line2D at 0x7f5d4fdfaf10>]"
      ]
     },
     "execution_count": 25,
     "metadata": {},
     "output_type": "execute_result"
    },
    {
     "data": {
      "image/png": "[encoded data removed]",
      "text/plain": [
       "<Figure size 432x288 with 1 Axes>"
      ]
     },
     "metadata": {
      "needs_background": "light"
     },
     "output_type": "display_data"
    }
   ],
   "source": [
    "x_test = np.linspace(0,2.5,4000)\n",
    "D_rec = y_test.detach().numpy()/(1+x_test)\n",
    "#D_rec_err = y_test2[:,1]/(1+z_test)\n",
    "\n",
    "Dp_rec = np.gradient(D_rec,x_test[1]-x_test[0])\n",
    "#Dp_rec_upp = np.gradient(D_rec+D_rec_err,z_test[1]-z_test[0])\n",
    "#Dp_rec_low = np.gradient(D_rec-D_rec_err,z_test[1]-z_test[0])\n",
    "\n",
    "print(3e5/Dp_rec[0])\n",
    "#plt.plot(z_test,H_t)\n",
    "plt.plot(x_test,3e5/Dp_rec)\n",
    "#plt.plot(z_test,3e1/Dp_rec_upp)\n",
    "#plt.plot(z_test,3e1/Dp_rec_low)\n",
    "#print(3e1/Dp_rec[0])"
   ]
  },
  {
   "cell_type": "code",
   "execution_count": null,
   "metadata": {},
   "outputs": [],
   "source": []
  }
 ],
 "metadata": {
  "interpreter": {
   "hash": "6b9a097f2b6b0937b50ab9e5f37f0e5e9f1ed747e071cd73360cbeeebd4f70a2"
  },
  "kernelspec": {
   "display_name": "Python 3.8.0 ('pytorch')",
   "language": "python",
   "name": "python3"
  },
  "language_info": {
   "codemirror_mode": {
    "name": "ipython",
    "version": 3
   },
   "file_extension": ".py",
   "mimetype": "text/x-python",
   "name": "python",
   "nbconvert_exporter": "python",
   "pygments_lexer": "ipython3",
   "version": "3.8.0"
  },
  "orig_nbformat": 4
 },
 "nbformat": 4,
 "nbformat_minor": 2
}
