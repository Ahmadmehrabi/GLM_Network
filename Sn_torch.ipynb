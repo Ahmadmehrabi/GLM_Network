{
 "cells": [
  {
   "cell_type": "code",
   "execution_count": 1,
   "metadata": {},
   "outputs": [],
   "source": [
    "import torch\n",
    "import numpy as np\n",
    "import matplotlib.pyplot as plt\n",
    "\n",
    "dtype = torch.float\n",
    "device = torch.device(\"cpu\")"
   ]
  },
  {
   "cell_type": "code",
   "execution_count": 2,
   "metadata": {},
   "outputs": [],
   "source": [
    "import scipy.integrate as integ\n",
    "\n",
    "def normalized_hubble(z,args):\n",
    "        om0 = args[1]\n",
    "        omm = om0*pow(1.+z,3)\n",
    "        ol0 = 1 - om0 \n",
    "\n",
    "        return pow(omm + ol0 ,0.5)\n",
    "\n",
    "\n",
    "def Ez_inv(z,args):\n",
    "        return 1./normalized_hubble(z,args)\n",
    "\n",
    "\n",
    "def com_dis(z,args):\n",
    "        res = integ.quad(Ez_inv, 0., z, args=args)\n",
    "        return res[0]\n",
    "\n",
    "\n",
    "def mu_the(z,H0,om):\n",
    "        mu = np.zeros(len(z))\n",
    "        args = [H0,om]\n",
    "        for i in range(len(z)):\n",
    "                lsd = 3e5*(1+z[i])*com_dis(z[i],args)/H0\n",
    "                mu[i] = 5*np.log10(lsd) + 25.\n",
    "        return mu\n",
    "\n",
    "def luminosity_distance(z,H0,om):\n",
    "    dl = np.zeros(len(z))\n",
    "    args = [H0,om]\n",
    "    for i in range(len(z)):\n",
    "        lsd = 3.e5*(1+z[i])*com_dis(z[i],args)/H0\n",
    "        dl[i] = lsd\n",
    "    return dl    \n"
   ]
  },
  {
   "cell_type": "code",
   "execution_count": 61,
   "metadata": {},
   "outputs": [
    {
     "name": "stdout",
     "output_type": "stream",
     "text": [
      "SN data are loaded\n"
     ]
    },
    {
     "data": {
      "text/plain": [
       "<ErrorbarContainer object of 3 artists>"
      ]
     },
     "execution_count": 61,
     "metadata": {},
     "output_type": "execute_result"
    },
    {
     "data": {
      "image/png": "[encoded data removed]",
      "text/plain": [
       "<Figure size 432x288 with 1 Axes>"
      ]
     },
     "metadata": {
      "needs_background": "light"
     },
     "output_type": "display_data"
    }
   ],
   "source": [
    "from pathlib import Path\n",
    "import os\n",
    "cwd=os.getcwd()\n",
    "\n",
    "path_cov = cwd + '/data/cov_full.txt'\n",
    "path_lcp = cwd + '/data/Tdata.txt'\n",
    "\n",
    "cov_file = Path(path_cov)\n",
    "lcp_file = Path(path_lcp)\n",
    "\n",
    "if cov_file.is_file() and lcp_file.is_file():\n",
    "    cov = np.genfromtxt(path_cov)\n",
    "    lcp = np.genfromtxt(path_lcp)\n",
    "                \n",
    "    z_obs = lcp[:,1]\n",
    "    mu_obs = lcp[:,4] + 19.3\n",
    "\n",
    "    cov_mat_sys = np.reshape(cov,(1048,1048))\n",
    "    cov_mat_sta = np.zeros((1048,1048))\n",
    "    \n",
    "    \n",
    "    for i in range(len(lcp)):\n",
    "        cov_mat_sys[i][i] = cov_mat_sys[i][i] + pow(lcp[i,5],2)\n",
    "        cov_mat_sta[i][i] = cov_mat_sta[i][i] + pow(lcp[i,5],2)\n",
    "        \n",
    "    cov_mat_sys_inv = np.linalg.inv(cov_mat_sys)\n",
    "    cov_mat_sta_inv = np.linalg.inv(cov_mat_sta)           \n",
    "    print(\"SN data are loaded\")   \n",
    "    \n",
    "else:\n",
    "    print(\"SN files do not exist\")\n",
    "    sys.exit(0) \n",
    "\n",
    "dmu_obs = np.sqrt(cov_mat_sys.diagonal())\n",
    "data = np.c_[z_obs,mu_obs,dmu_obs]\n",
    "data.view('f8,f8,f8').sort(order=['f0'], axis=0)\n",
    "\n",
    "z_obs = data[:,0]\n",
    "mu_obs = data[:,1]\n",
    "dmu_obs = data[:,2]\n",
    "\n",
    "#dmu_obs = np.sqrt(cov_mat_sys.diagonal())\n",
    "\n",
    "def convert_to_Dl(mu,dmu):\n",
    "    dl = pow(10,(mu-25)/5)\n",
    "    sig_dl = dmu*dl*0.4605\n",
    "    return dl,sig_dl\n",
    "\n",
    "  \n",
    "Dl_obs , dDl_obs = convert_to_Dl(mu_obs,dmu_obs)\n",
    "\n",
    "D_obs, dD_obs = Dl_obs/(1+z_obs) , dDl_obs/(1+z_obs)\n",
    "\n",
    "\n",
    "plt.errorbar(z_obs,Dl_obs/3e3,yerr=dDl_obs/3e3,fmt='o',lw=1,elinewidth=1.5,color=\"black\")"
   ]
  },
  {
   "cell_type": "code",
   "execution_count": 30,
   "metadata": {},
   "outputs": [
    {
     "data": {
      "text/plain": [
       "<ErrorbarContainer object of 3 artists>"
      ]
     },
     "execution_count": 30,
     "metadata": {},
     "output_type": "execute_result"
    },
    {
     "data": {
      "image/png": "[encoded data removed]",
      "text/plain": [
       "<Figure size 432x288 with 1 Axes>"
      ]
     },
     "metadata": {
      "needs_background": "light"
     },
     "output_type": "display_data"
    }
   ],
   "source": [
    "plt.errorbar(z_obs,D_obs/3e3,yerr=dD_obs/3e3,fmt='o',lw=1,elinewidth=1.5,color=\"black\")"
   ]
  },
  {
   "cell_type": "code",
   "execution_count": 75,
   "metadata": {},
   "outputs": [],
   "source": [
    "data = np.c_[z_obs,D_obs,dD_obs]\n",
    "\n",
    "Activation = torch.nn.SiLU()    #torch.nn.SELU(),#torch.nn.GELU(),#torch.nn.Tanh(),\n",
    "\n",
    "model = torch.nn.Sequential(\n",
    "    torch.nn.Linear(1, 10),\n",
    "    Activation,\n",
    "    torch.nn.Linear(10,10),\n",
    "    Activation,\n",
    "   # torch.nn.Linear(10,10),\n",
    "    #Activation,\n",
    "    torch.nn.Linear(10,1),\n",
    "    torch.nn.Flatten(0, 1)\n",
    ")\n",
    "\n",
    "y_train_err = torch.from_numpy(data[:,2]).float()\n",
    "y_train = torch.from_numpy(data[:,1]).float()\n",
    "\n",
    "def loss_fn(y_pred,y):\n",
    "    return ((y_pred - y)/y_train_err).pow(2).sum()"
   ]
  },
  {
   "cell_type": "code",
   "execution_count": 76,
   "metadata": {},
   "outputs": [
    {
     "data": {
      "text/plain": [
       "271960.1875"
      ]
     },
     "execution_count": 76,
     "metadata": {},
     "output_type": "execute_result"
    }
   ],
   "source": [
    "x = torch.from_numpy(z_obs).float()\n",
    "x = torch.reshape(x,(1048,1))\n",
    "\n",
    "y = torch.from_numpy(data[:,1]).float()\n",
    "\n",
    "y_pred = model(x)\n",
    "\n",
    "tot_par = sum([param.nelement() for param in model.parameters()])\n",
    "\n",
    "loss = loss_fn(y_pred,y)\n",
    "loss.item()"
   ]
  },
  {
   "cell_type": "code",
   "execution_count": 83,
   "metadata": {},
   "outputs": [
    {
     "name": "stdout",
     "output_type": "stream",
     "text": [
      "0 1012.10009765625\n",
      "5000 1012.0628051757812\n",
      "10000 1012.023681640625\n",
      "15000 1011.9854125976562\n",
      "20000 1011.9471435546875\n",
      "25000 1011.9085693359375\n",
      "30000 1011.87158203125\n",
      "35000 1011.8372802734375\n",
      "40000 1011.8013305664062\n",
      "45000 1011.767822265625\n",
      "50000 1011.730712890625\n",
      "55000 1011.69580078125\n",
      "60000 1011.661376953125\n",
      "65000 1011.6263427734375\n",
      "70000 1011.5929565429688\n",
      "75000 1011.5589599609375\n",
      "80000 1011.52734375\n"
     ]
    }
   ],
   "source": [
    "learning_rate = 1e-3\n",
    "optimizer = torch.optim.RMSprop(model.parameters(), lr=learning_rate)\n",
    "#optimizer = torch.optim.Adam(model.parameters(), lr=learning_rate)\n",
    "for t in range(80001):\n",
    "    # Forward pass: compute predicted y by passing x to the model.\n",
    "    y_pred = model(x)\n",
    "\n",
    "    # Compute and print loss.\n",
    "    loss = loss_fn(y_pred, y)\n",
    "    if t % 5000 == 0:\n",
    "        print(t, loss.item())\n",
    "\n",
    "    # Before the backward pass, use the optimizer object to zero all of the\n",
    "    # gradients for the variables it will update (which are the learnable\n",
    "    # weights of the model). This is because by default, gradients are\n",
    "    # accumulated in buffers( i.e, not overwritten) whenever .backward()\n",
    "    # is called. Checkout docs of torch.autograd.backward for more details.\n",
    "    optimizer.zero_grad()\n",
    "\n",
    "    # Backward pass: compute gradient of the loss with respect to model\n",
    "    # parameters\n",
    "    loss.backward()\n",
    "\n",
    "    # Calling the step function on an Optimizer makes an update to its\n",
    "    # parameters\n",
    "    optimizer.step()\n",
    "    #linear_layer = model[0]\n",
    "    #print(linear_layer.weight)"
   ]
  },
  {
   "cell_type": "code",
   "execution_count": 84,
   "metadata": {},
   "outputs": [
    {
     "data": {
      "text/plain": [
       "<ErrorbarContainer object of 3 artists>"
      ]
     },
     "execution_count": 84,
     "metadata": {},
     "output_type": "execute_result"
    },
    {
     "data": {
      "image/png": "[encoded data removed]",
      "text/plain": [
       "<Figure size 432x288 with 1 Axes>"
      ]
     },
     "metadata": {
      "needs_background": "light"
     },
     "output_type": "display_data"
    }
   ],
   "source": [
    "x_test = torch.linspace(0, 2.5, 4000, device=device, dtype=dtype)\n",
    "x_test = torch.reshape(x_test,(4000,1))\n",
    "y_th = luminosity_distance(x_test,70,0.3)/(1+x_test[:,0])\n",
    "y_test = model(x_test)\n",
    "\n",
    "\n",
    "plt.plot(x_test,y_th)\n",
    "plt.plot(x_test.detach().numpy().reshape(-1,),y_test.detach().numpy())\n",
    "plt.errorbar(z_obs,D_obs,yerr=dD_obs,fmt=\"bo\")"
   ]
  },
  {
   "cell_type": "code",
   "execution_count": 86,
   "metadata": {},
   "outputs": [
    {
     "name": "stdout",
     "output_type": "stream",
     "text": [
      "72.71425852759307\n"
     ]
    },
    {
     "data": {
      "text/plain": [
       "[<matplotlib.lines.Line2D at 0x7f0bbd2e5d90>]"
      ]
     },
     "execution_count": 86,
     "metadata": {},
     "output_type": "execute_result"
    },
    {
     "data": {
      "image/png": "[encoded data removed]",
      "text/plain": [
       "<Figure size 432x288 with 1 Axes>"
      ]
     },
     "metadata": {
      "needs_background": "light"
     },
     "output_type": "display_data"
    }
   ],
   "source": [
    "x_test = np.linspace(0,2.5,4000)\n",
    "D_rec = (y_test.detach().numpy())\n",
    "#D_rec_err = y_test2[:,1]/(1+z_test)\n",
    "\n",
    "Dp_rec = np.gradient(D_rec,x_test[1]-x_test[0])\n",
    "#Dp_rec_upp = np.gradient(D_rec+D_rec_err,z_test[1]-z_test[0])\n",
    "#Dp_rec_low = np.gradient(D_rec-D_rec_err,z_test[1]-z_test[0])\n",
    "\n",
    "print(3e5/Dp_rec[0])\n",
    "#plt.plot(z_test,H_t)\n",
    "plt.plot(x_test,Dp_rec)\n",
    "#plt.plot(z_test,3e1/Dp_rec_upp)\n",
    "#plt.plot(z_test,3e1/Dp_rec_low)\n",
    "#print(3e1/Dp_rec[0])"
   ]
  },
  {
   "cell_type": "code",
   "execution_count": null,
   "metadata": {},
   "outputs": [],
   "source": []
  }
 ],
 "metadata": {
  "interpreter": {
   "hash": "6b9a097f2b6b0937b50ab9e5f37f0e5e9f1ed747e071cd73360cbeeebd4f70a2"
  },
  "kernelspec": {
   "display_name": "Python 3.8.0 ('pytorch')",
   "language": "python",
   "name": "python3"
  },
  "language_info": {
   "codemirror_mode": {
    "name": "ipython",
    "version": 3
   },
   "file_extension": ".py",
   "mimetype": "text/x-python",
   "name": "python",
   "nbconvert_exporter": "python",
   "pygments_lexer": "ipython3",
   "version": "3.8.0"
  },
  "orig_nbformat": 4
 },
 "nbformat": 4,
 "nbformat_minor": 2
}
