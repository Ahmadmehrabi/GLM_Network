{
 "cells": [
  {
   "cell_type": "code",
   "execution_count": 54,
   "metadata": {},
   "outputs": [],
   "source": [
    "import torch\n",
    "import numpy as np\n",
    "import deriv as der\n",
    "import matplotlib.pyplot as plt\n",
    "\n",
    "dtype = torch.float           \n",
    "device = torch.device(\"cpu\")"
   ]
  },
  {
   "cell_type": "code",
   "execution_count": 43,
   "metadata": {},
   "outputs": [
    {
     "data": {
      "text/plain": [
       "<ErrorbarContainer object of 3 artists>"
      ]
     },
     "execution_count": 43,
     "metadata": {},
     "output_type": "execute_result"
    },
    {
     "data": {
      "image/png": "[encoded data removed]",
      "text/plain": [
       "<Figure size 432x288 with 1 Axes>"
      ]
     },
     "metadata": {
      "needs_background": "light"
     },
     "output_type": "display_data"
    }
   ],
   "source": [
    "import scipy.integrate as integ\n",
    "\n",
    "def Hub_the(z,om,H0):\n",
    "    return H0*np.sqrt(om*pow(1+z,3)+1-om)\n",
    "\n",
    "def normalized_hubble(z,args):\n",
    "        om0 = args[1]\n",
    "        omm = om0*pow(1.+z,3)\n",
    "        ol0 = 1 - om0 \n",
    "\n",
    "        return pow(omm + ol0 ,0.5)\n",
    "\n",
    "\n",
    "def Ez_inv(z,args):\n",
    "        return 1./normalized_hubble(z,args)\n",
    "\n",
    "\n",
    "def com_dis(z,args):\n",
    "        res = np.zeros(len(z))\n",
    "        H0 = args[0]\n",
    "        for i in range(len(z)):\n",
    "            res[i] = integ.quad(Ez_inv, 0., z[i], args=args)[0]\n",
    "        \n",
    "        return (3e5/H0)*res   \n",
    "\n",
    "\n",
    "sig = 0.01\n",
    "n_obs = 300\n",
    "eps = np.random.normal(0.,sig,n_obs)\n",
    "z_obs = np.linspace(0.01,3,n_obs)\n",
    "D_obs = com_dis(z_obs,[70,0.3])*(1+eps)\n",
    "dD_obs = com_dis(z_obs,[70,0.3])*sig\n",
    "\n",
    "data = np.c_[z_obs,D_obs/1000,dD_obs/1000]\n",
    "plt.errorbar(z_obs,D_obs/1000,yerr=dD_obs/1000,fmt=\"bo\")"
   ]
  },
  {
   "cell_type": "code",
   "execution_count": 44,
   "metadata": {},
   "outputs": [],
   "source": [
    "Activation = torch.nn.SiLU()    #torch.nn.SELU(),#torch.nn.GELU(),#torch.nn.Tanh(),\n",
    "    \n",
    "model = torch.nn.Sequential(\n",
    "    torch.nn.Linear(1, 10),\n",
    "    Activation,\n",
    "    torch.nn.Linear(10,10),\n",
    "    Activation,\n",
    "    torch.nn.Linear(10,5),\n",
    "    Activation,\n",
    "    torch.nn.Linear(5,1),\n",
    "    torch.nn.Flatten(0, 1)\n",
    ")\n",
    "\n",
    "\n",
    "def der_act(x):\n",
    "    t1 = 1 + torch.exp(-x) + x*torch.exp(-x)\n",
    "    t2 = (1 + torch.exp(-x)).pow(2)\n",
    "    return t1/t2\n",
    "\n",
    "y = torch.from_numpy(data[:,1]).float()\n",
    "err = torch.from_numpy(data[:,2]).float()\n",
    "\n",
    "def loss_fn(y_pred,y):\n",
    "    \n",
    "    return ((y_pred - y)/err).pow(2).sum()\n"
   ]
  },
  {
   "cell_type": "code",
   "execution_count": 45,
   "metadata": {},
   "outputs": [
    {
     "name": "stdout",
     "output_type": "stream",
     "text": [
      "0 3138413.75\n",
      "5000 1782.3460693359375\n",
      "10000 1162.495849609375\n",
      "15000 839.1149291992188\n",
      "20000 650.7496337890625\n",
      "25000 597.2265014648438\n",
      "30000 559.0806884765625\n",
      "35000 562.5556640625\n",
      "40000 514.8496704101562\n",
      "45000 502.33447265625\n",
      "50000 482.9219970703125\n"
     ]
    }
   ],
   "source": [
    "learning_rate = 1e-3\n",
    "x = torch.from_numpy(data[:,0]).float()\n",
    "x = torch.reshape(x,(len(data[:,0]),1))\n",
    "\n",
    "\n",
    "optimizer = torch.optim.RMSprop(model.parameters(), lr=learning_rate)\n",
    "for t in range(50001):\n",
    "    # Forward pass: compute predicted y by passing x to the model.\n",
    "    y_pred = model(x)\n",
    "\n",
    "    # Compute and print loss.\n",
    "    loss = loss_fn(y_pred, y)\n",
    "    if t % 5000 == 0:\n",
    "        print(t, loss.item())\n",
    "\n",
    "    optimizer.zero_grad()\n",
    "\n",
    "    loss.backward()\n",
    "\n",
    "    # Calling the step function on an Optimizer makes an update to its\n",
    "    # parameters\n",
    "    optimizer.step()"
   ]
  },
  {
   "cell_type": "code",
   "execution_count": 48,
   "metadata": {},
   "outputs": [
    {
     "data": {
      "text/plain": [
       "[<matplotlib.lines.Line2D at 0x7f0608c97bb0>]"
      ]
     },
     "execution_count": 48,
     "metadata": {},
     "output_type": "execute_result"
    },
    {
     "data": {
      "image/png": "[encoded data removed]",
      "text/plain": [
       "<Figure size 432x288 with 1 Axes>"
      ]
     },
     "metadata": {
      "needs_background": "light"
     },
     "output_type": "display_data"
    }
   ],
   "source": [
    "x_test = torch.linspace(0, 3, 2000, device=device, dtype=dtype)\n",
    "x_test = torch.reshape(x_test,(2000,1))\n",
    "y_th = com_dis(x_test,[70,0.3])\n",
    "y_obs = com_dis(data[:,0],[70,0.3])\n",
    "y_test = model(x_test)\n",
    "\n",
    "\n",
    "plt.plot(x_test,y_th/1000)\n",
    "plt.plot(x_test.detach().numpy().reshape(-1,),y_test.detach().numpy())\n",
    "#plt.errorbar(data[:,0],data[:,1],yerr=data[:,2],fmt=\"bo\")"
   ]
  },
  {
   "cell_type": "code",
   "execution_count": 55,
   "metadata": {},
   "outputs": [
    {
     "name": "stdout",
     "output_type": "stream",
     "text": [
      "71517.07748588234 tensor([71517.2344], grad_fn=<MulBackward0>)\n"
     ]
    },
    {
     "data": {
      "text/plain": [
       "[<matplotlib.lines.Line2D at 0x7f0608b8a1c0>]"
      ]
     },
     "execution_count": 55,
     "metadata": {},
     "output_type": "execute_result"
    },
    {
     "data": {
      "image/png": "[encoded data removed]",
      "text/plain": [
       "<Figure size 432x288 with 1 Axes>"
      ]
     },
     "metadata": {
      "needs_background": "light"
     },
     "output_type": "display_data"
    }
   ],
   "source": [
    "x = x_test[:,0].detach().numpy()\n",
    "y = y_test.detach().numpy()\n",
    "\n",
    "deriv = der.der_fun(model,x_test,der_act,4) \n",
    "der_num = np.gradient(y,x[1]-x[0])\n",
    "print(3e5/der_num[10],3e5/deriv[10])\n",
    "\n",
    " \n",
    "plt.plot(x,3e5/der_num)\n",
    "plt.plot(x,3e5/deriv[:,0].detach().numpy())"
   ]
  }
 ],
 "metadata": {
  "interpreter": {
   "hash": "6b9a097f2b6b0937b50ab9e5f37f0e5e9f1ed747e071cd73360cbeeebd4f70a2"
  },
  "kernelspec": {
   "display_name": "Python 3.8.0 ('pytorch')",
   "language": "python",
   "name": "python3"
  },
  "language_info": {
   "codemirror_mode": {
    "name": "ipython",
    "version": 3
   },
   "file_extension": ".py",
   "mimetype": "text/x-python",
   "name": "python",
   "nbconvert_exporter": "python",
   "pygments_lexer": "ipython3",
   "version": "3.8.0"
  },
  "orig_nbformat": 4
 },
 "nbformat": 4,
 "nbformat_minor": 2
}
