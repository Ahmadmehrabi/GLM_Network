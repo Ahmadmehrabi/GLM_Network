{
 "cells": [
  {
   "cell_type": "code",
   "execution_count": null,
   "metadata": {},
   "outputs": [],
   "source": [
    "import torch\n",
    "import numpy as np\n",
    "import deriv as der\n",
    "import matplotlib.pyplot as plt\n",
    "\n",
    "dtype = torch.float           \n",
    "device = torch.device(\"cpu\")"
   ]
  },
  {
   "cell_type": "code",
   "execution_count": null,
   "metadata": {},
   "outputs": [],
   "source": [
    "f = lambda x: 2*x**3 -1*x**2 +3*x -1\n",
    "x = np.random.uniform(-1.4,1.4,20)\n",
    "eps = np.random.normal(0.,sig,20)\n",
    "z_obs = np.linspace(0.01,3,n_obs)\n",
    "D_obs = com_dis(z_obs,[70,0.3])*(1+eps)\n",
    "dD_obs = com_dis(z_obs,[70,0.3])*sig\n",
    "y = f(x)\n",
    "plt.plot(x,y,'bo')"
   ]
  }
 ],
 "metadata": {
  "language_info": {
   "name": "python"
  },
  "orig_nbformat": 4
 },
 "nbformat": 4,
 "nbformat_minor": 2
}
