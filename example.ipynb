{
 "cells": [
  {
   "cell_type": "code",
   "execution_count": 1,
   "metadata": {},
   "outputs": [],
   "source": [
    "import torch\n",
    "import numpy as np\n",
    "import deriv as der\n",
    "import matplotlib.pyplot as plt\n",
    "\n",
    "dtype = torch.float           \n",
    "device = torch.device(\"cpu\")"
   ]
  },
  {
   "cell_type": "code",
   "execution_count": 29,
   "metadata": {},
   "outputs": [
    {
     "data": {
      "text/plain": [
       "<ErrorbarContainer object of 3 artists>"
      ]
     },
     "execution_count": 29,
     "metadata": {},
     "output_type": "execute_result"
    },
    {
     "data": {
      "image/png": "[encoded data removed]",
      "text/plain": [
       "<Figure size 432x288 with 1 Axes>"
      ]
     },
     "metadata": {
      "needs_background": "light"
     },
     "output_type": "display_data"
    }
   ],
   "source": [
    "f = lambda x: 2*x**3 -1*x**2 +3*x -1\n",
    "f_pr = lambda x: 6*x**2 -2*x +3\n",
    "\n",
    "sig = 0.03\n",
    "sig_pr = 0.06\n",
    "n_obs = 80\n",
    "n_pr_obs = 60\n",
    "\n",
    "x_obs = np.random.uniform(-1.5,1.5,n_obs)\n",
    "x_pr_obs = np.random.uniform(-1.5,1.5,n_pr_obs)\n",
    "#x_obs = np.linspace(-1.5,1.5,n_obs)\n",
    "eps = np.random.normal(0.,sig,n_obs)\n",
    "eps_pr = np.random.normal(0.,sig_pr,n_pr_obs)\n",
    "\n",
    "y_obs = f(x_obs)*(1+eps)\n",
    "dy_obs = f(x_obs)*sig\n",
    "\n",
    "y_pr_obs = f_pr(x_pr_obs)*(1+eps_pr)\n",
    "dy_pr_obs = f_pr(x_pr_obs)*sig_pr\n",
    "\n",
    "\n",
    "\n",
    "plt.errorbar(x_obs,y_obs,yerr=dy_obs,fmt='ko')\n",
    "plt.errorbar(x_pr_obs,y_pr_obs,yerr=dy_pr_obs,fmt='bo')"
   ]
  },
  {
   "cell_type": "code",
   "execution_count": 36,
   "metadata": {},
   "outputs": [],
   "source": [
    "Activation = torch.nn.SiLU()    #torch.nn.SELU(),#torch.nn.GELU(),#torch.nn.Tanh(),\n",
    "    \n",
    "model = torch.nn.Sequential(\n",
    "    torch.nn.Linear(1, 10),\n",
    "    Activation,\n",
    "    torch.nn.Linear(10,10),\n",
    "    Activation,\n",
    "    torch.nn.Linear(10,5),\n",
    "    Activation,\n",
    "    torch.nn.Linear(5,1),\n",
    "    torch.nn.Flatten(0, 1)\n",
    ")\n",
    "\n",
    "\n",
    "def der_act(x):\n",
    "    t1 = 1 + torch.exp(-x) + x*torch.exp(-x)\n",
    "    t2 = (1 + torch.exp(-x)).pow(2)\n",
    "    return t1/t2\n",
    "\n",
    "def loss_fn_alone(y_pred,data):\n",
    "    y = torch.from_numpy(data[:,1]).float()\n",
    "    err_y = torch.from_numpy(data[:,2]).float()\n",
    "    \n",
    "    return ((y_pred - y)/err_y).pow(2).sum()\n",
    "\n",
    "\n",
    "def loss_fn_deri(y_pred,y_pred_pr,data,data_pr):\n",
    "    y = torch.from_numpy(data[:,1]).float()\n",
    "    err_y = torch.from_numpy(data[:,2]).float()\n",
    "\n",
    "    y_pr = torch.from_numpy(data_pr[:,1]).float()\n",
    "    err_y_pr = torch.from_numpy(data_pr[:,2]).float()\n",
    "\n",
    "    t1 = ((y_pred - y)/err_y).pow(2).sum()\n",
    "    t2 = ((y_pred_pr - y_pr)/err_y_pr).pow(2).sum()\n",
    "    \n",
    "    return t1 + t2\n",
    "    "
   ]
  },
  {
   "cell_type": "code",
   "execution_count": 37,
   "metadata": {},
   "outputs": [
    {
     "name": "stdout",
     "output_type": "stream",
     "text": [
      "0 1090453.125\n",
      "5000 243870.3125\n",
      "10000 243198.75\n",
      "15000 242728.25\n",
      "20000 242302.5\n",
      "25000 241735.6875\n",
      "30000 240839.6875\n",
      "35000 240405.8125\n",
      "40000 240270.28125\n",
      "45000 240219.75\n",
      "50000 240191.703125\n"
     ]
    }
   ],
   "source": [
    "data = np.c_[x_obs,y_obs,dy_obs]\n",
    "data_pr = np.c_[x_pr_obs,y_pr_obs,dy_pr_obs]\n",
    "\n",
    "x = torch.from_numpy(data[:,0]).float()\n",
    "x = torch.reshape(x,(len(data[:,0]),1))\n",
    "\n",
    "x_pr = torch.from_numpy(data_pr[:,0]).float()\n",
    "x_pr = torch.reshape(x_pr,(len(data_pr[:,0]),1))\n",
    "\n",
    "\n",
    "learning_rate = 1e-3\n",
    "optimizer = torch.optim.RMSprop(model.parameters(), lr=learning_rate)\n",
    "for t in range(50001):\n",
    "    # Forward pass: compute predicted y by passing x to the model.\n",
    "    y_pred = model(x)\n",
    "    y_pred_pr = der.der_fun(model,x_pr,der_act,4)\n",
    "\n",
    "    # Compute and print loss.\n",
    "    loss = loss_fn_deri(y_pred,y_pred_pr, data,data_pr)\n",
    "    #loss = loss_fn_alone(y_pred, data)\n",
    "    if t % 5000 == 0:\n",
    "        print(t, loss.item())\n",
    "\n",
    "    optimizer.zero_grad()\n",
    "\n",
    "    loss.backward()\n",
    "\n",
    "    # Calling the step function on an Optimizer makes an update to its\n",
    "    # parameters\n",
    "    optimizer.step()"
   ]
  },
  {
   "cell_type": "code",
   "execution_count": 38,
   "metadata": {},
   "outputs": [
    {
     "data": {
      "text/plain": [
       "<ErrorbarContainer object of 3 artists>"
      ]
     },
     "execution_count": 38,
     "metadata": {},
     "output_type": "execute_result"
    },
    {
     "data": {
      "image/png": "[encoded data removed]",
      "text/plain": [
       "<Figure size 432x288 with 1 Axes>"
      ]
     },
     "metadata": {
      "needs_background": "light"
     },
     "output_type": "display_data"
    }
   ],
   "source": [
    "x_test = torch.linspace(-1.5, 1.5, 2000, device=device, dtype=dtype)\n",
    "x_test = torch.reshape(x_test,(2000,1))\n",
    "\n",
    "y_th = f(x_test)\n",
    "y_test = model(x_test)\n",
    "\n",
    "plt.plot(x_test,y_th)\n",
    "plt.plot(x_test.detach().numpy().reshape(-1,),y_test.detach().numpy())\n",
    "plt.errorbar(data[:,0],data[:,1],yerr=data[:,2],fmt=\"bo\")"
   ]
  },
  {
   "cell_type": "code",
   "execution_count": 34,
   "metadata": {},
   "outputs": [
    {
     "data": {
      "text/plain": [
       "[<matplotlib.lines.Line2D at 0x7fd439b9b370>]"
      ]
     },
     "execution_count": 34,
     "metadata": {},
     "output_type": "execute_result"
    },
    {
     "data": {
      "image/png": "[encoded data removed]",
      "text/plain": [
       "<Figure size 432x288 with 1 Axes>"
      ]
     },
     "metadata": {
      "needs_background": "light"
     },
     "output_type": "display_data"
    }
   ],
   "source": [
    "deriv = der.der_fun(model,x_test,der_act,3)\n",
    "der_the = f_pr(x_test)\n",
    "\n",
    "plt.plot(x_test,der_the)\n",
    "plt.plot(x_test,deriv[:,0].detach().numpy())"
   ]
  },
  {
   "cell_type": "code",
   "execution_count": null,
   "metadata": {},
   "outputs": [],
   "source": [
    "plt.plot(x,3e5/deriv[:,0].detach().numpy())"
   ]
  }
 ],
 "metadata": {
  "interpreter": {
   "hash": "6b9a097f2b6b0937b50ab9e5f37f0e5e9f1ed747e071cd73360cbeeebd4f70a2"
  },
  "kernelspec": {
   "display_name": "Python 3.8.0 ('pytorch')",
   "language": "python",
   "name": "python3"
  },
  "language_info": {
   "codemirror_mode": {
    "name": "ipython",
    "version": 3
   },
   "file_extension": ".py",
   "mimetype": "text/x-python",
   "name": "python",
   "nbconvert_exporter": "python",
   "pygments_lexer": "ipython3",
   "version": "3.8.0"
  },
  "orig_nbformat": 4
 },
 "nbformat": 4,
 "nbformat_minor": 2
}
